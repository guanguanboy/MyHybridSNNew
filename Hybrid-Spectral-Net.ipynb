{
 "cells": [
  {
   "cell_type": "code",
   "execution_count": 2,
   "metadata": {},
   "outputs": [
    {
     "data": {
      "text/html": [
       "        <script type=\"text/javascript\">\n",
       "        window.PlotlyConfig = {MathJaxConfig: 'local'};\n",
       "        if (window.MathJax) {MathJax.Hub.Config({SVG: {font: \"STIX-Web\"}});}\n",
       "        if (typeof require !== 'undefined') {\n",
       "        require.undef(\"plotly\");\n",
       "        requirejs.config({\n",
       "            paths: {\n",
       "                'plotly': ['https://cdn.plot.ly/plotly-latest.min']\n",
       "            }\n",
       "        });\n",
       "        require(['plotly'], function(Plotly) {\n",
       "            window._Plotly = Plotly;\n",
       "        });\n",
       "        }\n",
       "        </script>\n",
       "        "
      ]
     },
     "metadata": {},
     "output_type": "display_data"
    }
   ],
   "source": [
    "import keras\n",
    "from keras.layers import Conv2D, Conv3D, Flatten, Dense, Reshape, BatchNormalization\n",
    "from keras.layers import Dropout, Input\n",
    "from keras.models import Model\n",
    "from keras.optimizers import Adam\n",
    "from keras.callbacks import ModelCheckpoint\n",
    "from keras.utils import np_utils\n",
    "\n",
    "from sklearn.decomposition import PCA\n",
    "from sklearn.model_selection import train_test_split\n",
    "from sklearn.metrics import confusion_matrix, accuracy_score, classification_report, cohen_kappa_score\n",
    "\n",
    "from operator import truediv\n",
    "\n",
    "from plotly.offline import init_notebook_mode\n",
    "\n",
    "import numpy as np\n",
    "import matplotlib.pyplot as plt\n",
    "import scipy.io as sio\n",
    "import os\n",
    "import spectral\n",
    "\n",
    "init_notebook_mode(connected=True)\n",
    "%matplotlib inline"
   ]
  },
  {
   "cell_type": "markdown",
   "metadata": {},
   "source": [
    "# Data Loading"
   ]
  },
  {
   "cell_type": "code",
   "execution_count": 3,
   "metadata": {},
   "outputs": [],
   "source": [
    "## GLOBAL VARIABLES\n",
    "dataset = 'IP'\n",
    "test_ratio = 0.7\n",
    "windowSize = 25"
   ]
  },
  {
   "cell_type": "code",
   "execution_count": 4,
   "metadata": {},
   "outputs": [],
   "source": [
    "def loadData(name):\n",
    "    data_path = os.path.join(os.getcwd(),'data')\n",
    "    if name == 'IP':\n",
    "        data = sio.loadmat(os.path.join(data_path, 'Indian_pines_corrected.mat'))['indian_pines_corrected']\n",
    "        labels = sio.loadmat(os.path.join(data_path, 'Indian_pines_gt.mat'))['indian_pines_gt']\n",
    "    elif name == 'SA':\n",
    "        data = sio.loadmat(os.path.join(data_path, 'Salinas_corrected.mat'))['salinas_corrected']\n",
    "        labels = sio.loadmat(os.path.join(data_path, 'Salinas_gt.mat'))['salinas_gt']\n",
    "    elif name == 'PU':\n",
    "        data = sio.loadmat(os.path.join(data_path, 'PaviaU.mat'))['paviaU']\n",
    "        labels = sio.loadmat(os.path.join(data_path, 'PaviaU_gt.mat'))['paviaU_gt']\n",
    "    \n",
    "    return data, labels"
   ]
  },
  {
   "cell_type": "code",
   "execution_count": 5,
   "metadata": {},
   "outputs": [],
   "source": [
    "def splitTrainTestSet(X, y, testRatio, randomState=345):\n",
    "    X_train, X_test, y_train, y_test = train_test_split(X, y, test_size=testRatio, random_state=randomState,\n",
    "                                                        stratify=y)\n",
    "    return X_train, X_test, y_train, y_test"
   ]
  },
  {
   "cell_type": "code",
   "execution_count": 6,
   "metadata": {},
   "outputs": [],
   "source": [
    "def applyPCA(X, numComponents=75):\n",
    "    newX = np.reshape(X, (-1, X.shape[2])) # 这里为什么要执行这个reshape，难道说PCA算法只能处理二维矩阵吗\n",
    "    print(newX.shape)\n",
    "    pca = PCA(n_components=numComponents, whiten=True)\n",
    "    newX = pca.fit_transform(newX)\n",
    "    newX = np.reshape(newX, (X.shape[0],X.shape[1], numComponents))\n",
    "    return newX, pca"
   ]
  },
  {
   "cell_type": "code",
   "execution_count": 7,
   "metadata": {},
   "outputs": [],
   "source": [
    "def padWithZeros(X, margin=2):\n",
    "    newX = np.zeros((X.shape[0] + 2 * margin, X.shape[1] + 2* margin, X.shape[2]))\n",
    "    x_offset = margin\n",
    "    y_offset = margin\n",
    "    newX[x_offset:X.shape[0] + x_offset, y_offset:X.shape[1] + y_offset, :] = X\n",
    "    return newX"
   ]
  },
  {
   "cell_type": "code",
   "execution_count": 8,
   "metadata": {},
   "outputs": [],
   "source": [
    "def createImageCubes(X, y, windowSize=5, removeZeroLabels = True):\n",
    "    margin = int((windowSize - 1) / 2)\n",
    "    zeroPaddedX = padWithZeros(X, margin=margin)\n",
    "    # split patches\n",
    "    patchesData = np.zeros((X.shape[0] * X.shape[1], windowSize, windowSize, X.shape[2]))\n",
    "    patchesLabels = np.zeros((X.shape[0] * X.shape[1]))\n",
    "    patchIndex = 0\n",
    "    for r in range(margin, zeroPaddedX.shape[0] - margin):\n",
    "        for c in range(margin, zeroPaddedX.shape[1] - margin):\n",
    "            patch = zeroPaddedX[r - margin:r + margin + 1, c - margin:c + margin + 1]   \n",
    "            patchesData[patchIndex, :, :, :] = patch\n",
    "            patchesLabels[patchIndex] = y[r-margin, c-margin]\n",
    "            patchIndex = patchIndex + 1\n",
    "    if removeZeroLabels:\n",
    "        patchesData = patchesData[patchesLabels>0,:,:,:]\n",
    "        patchesLabels = patchesLabels[patchesLabels>0]\n",
    "        patchesLabels -= 1\n",
    "    return patchesData, patchesLabels"
   ]
  },
  {
   "cell_type": "code",
   "execution_count": 9,
   "metadata": {},
   "outputs": [
    {
     "data": {
      "text/plain": [
       "((145, 145, 200), (145, 145))"
      ]
     },
     "execution_count": 9,
     "metadata": {},
     "output_type": "execute_result"
    }
   ],
   "source": [
    "X, y = loadData(dataset)\n",
    "\n",
    "X.shape, y.shape"
   ]
  },
  {
   "cell_type": "code",
   "execution_count": 1,
   "metadata": {},
   "outputs": [
    {
     "ename": "NameError",
     "evalue": "name 'X' is not defined",
     "output_type": "error",
     "traceback": [
      "\u001b[1;31m---------------------------------------------------------------------------\u001b[0m",
      "\u001b[1;31mNameError\u001b[0m                                 Traceback (most recent call last)",
      "\u001b[1;32m<ipython-input-1-9861c84da654>\u001b[0m in \u001b[0;36m<module>\u001b[1;34m\u001b[0m\n\u001b[1;32m----> 1\u001b[1;33m \u001b[0mimg\u001b[0m \u001b[1;33m=\u001b[0m \u001b[0mX\u001b[0m\u001b[1;33m\u001b[0m\u001b[1;33m\u001b[0m\u001b[0m\n\u001b[0m\u001b[0;32m      2\u001b[0m \u001b[0mgt\u001b[0m \u001b[1;33m=\u001b[0m \u001b[0my\u001b[0m\u001b[1;33m\u001b[0m\u001b[1;33m\u001b[0m\u001b[0m\n\u001b[0;32m      3\u001b[0m \u001b[1;33m\u001b[0m\u001b[0m\n\u001b[0;32m      4\u001b[0m \u001b[0mview\u001b[0m \u001b[1;33m=\u001b[0m \u001b[0mspectral\u001b[0m\u001b[1;33m.\u001b[0m\u001b[0mimshow\u001b[0m\u001b[1;33m(\u001b[0m\u001b[0mimg\u001b[0m\u001b[1;33m,\u001b[0m \u001b[1;33m(\u001b[0m\u001b[1;36m30\u001b[0m\u001b[1;33m,\u001b[0m \u001b[1;36m20\u001b[0m\u001b[1;33m,\u001b[0m \u001b[1;36m10\u001b[0m\u001b[1;33m)\u001b[0m\u001b[1;33m,\u001b[0m \u001b[0mclasses\u001b[0m\u001b[1;33m=\u001b[0m\u001b[0mgt\u001b[0m\u001b[1;33m)\u001b[0m\u001b[1;33m\u001b[0m\u001b[1;33m\u001b[0m\u001b[0m\n\u001b[0;32m      5\u001b[0m \u001b[0mview\u001b[0m\u001b[1;33m.\u001b[0m\u001b[0mset_display_mode\u001b[0m\u001b[1;33m(\u001b[0m\u001b[1;34m'overlay'\u001b[0m\u001b[1;33m)\u001b[0m\u001b[1;33m\u001b[0m\u001b[1;33m\u001b[0m\u001b[0m\n",
      "\u001b[1;31mNameError\u001b[0m: name 'X' is not defined"
     ]
    }
   ],
   "source": [
    "\n",
    "img = X\n",
    "gt = y\n",
    "\n",
    "view = spectral.imshow(img, (30, 20, 10), classes=gt)\n",
    "view.set_display_mode('overlay')\n",
    "view.class_alpha = 0.5\n",
    "\n",
    "spectral.view_cube(img,bands=[29, 19, 9])\n"
   ]
  },
  {
   "cell_type": "code",
   "execution_count": 10,
   "metadata": {},
   "outputs": [
    {
     "data": {
      "text/plain": [
       "200"
      ]
     },
     "execution_count": 10,
     "metadata": {},
     "output_type": "execute_result"
    }
   ],
   "source": [
    "K = X.shape[2]\n",
    "K"
   ]
  },
  {
   "cell_type": "code",
   "execution_count": 11,
   "metadata": {
    "scrolled": false
   },
   "outputs": [
    {
     "name": "stdout",
     "output_type": "stream",
     "text": [
      "(21025, 200)\n"
     ]
    },
    {
     "data": {
      "text/plain": [
       "((145, 145, 30),\n",
       " array([6.84937994e-01, 2.35313708e-01, 1.49635476e-02, 8.21541515e-03,\n",
       "        6.95011265e-03, 5.17010703e-03, 3.99681431e-03, 3.62359687e-03,\n",
       "        3.07127396e-03, 2.93211894e-03, 2.67352982e-03, 2.49230109e-03,\n",
       "        2.24688362e-03, 1.89388743e-03, 1.69433605e-03, 1.56043450e-03,\n",
       "        1.53162452e-03, 1.35012810e-03, 1.00138324e-03, 9.24873359e-04,\n",
       "        8.47840312e-04, 7.64369081e-04, 6.64524535e-04, 6.45652711e-04,\n",
       "        6.16156509e-04, 5.61157439e-04, 5.42703153e-04, 5.15473709e-04,\n",
       "        4.15145807e-04, 3.61057705e-04]))"
      ]
     },
     "execution_count": 11,
     "metadata": {},
     "output_type": "execute_result"
    }
   ],
   "source": [
    "K = 30 if dataset == 'IP' else 15\n",
    "X,pca = applyPCA(X,numComponents=K)\n",
    "\n",
    "X.shape, pca.explained_variance_ratio_\n"
   ]
  },
  {
   "cell_type": "code",
   "execution_count": 13,
   "metadata": {},
   "outputs": [
    {
     "data": {
      "text/plain": [
       "((10249, 25, 25, 30), (10249,))"
      ]
     },
     "execution_count": 13,
     "metadata": {},
     "output_type": "execute_result"
    }
   ],
   "source": [
    "X, y = createImageCubes(X, y, windowSize=windowSize)\n",
    "\n",
    "X.shape, y.shape"
   ]
  },
  {
   "cell_type": "code",
   "execution_count": 14,
   "metadata": {
    "scrolled": true
   },
   "outputs": [
    {
     "data": {
      "text/plain": [
       "((3074, 25, 25, 30), (7175, 25, 25, 30), (3074,), (7175,))"
      ]
     },
     "execution_count": 14,
     "metadata": {},
     "output_type": "execute_result"
    }
   ],
   "source": [
    "Xtrain, Xtest, ytrain, ytest = splitTrainTestSet(X, y, test_ratio)\n",
    "\n",
    "Xtrain.shape, Xtest.shape, ytrain.shape, ytest.shape"
   ]
  },
  {
   "cell_type": "markdown",
   "metadata": {},
   "source": [
    "Xtrain, Xvalid, ytrain, yvalid = splitTrainTestSet(Xtrain, ytrain, 0.3333)\n",
    "\n",
    "Xtrain.shape, Xvalid.shape, ytrain.shape, yvalid.shape"
   ]
  },
  {
   "cell_type": "markdown",
   "metadata": {},
   "source": [
    "# Model and Training"
   ]
  },
  {
   "cell_type": "code",
   "execution_count": 15,
   "metadata": {},
   "outputs": [
    {
     "data": {
      "text/plain": [
       "(3074, 25, 25, 30, 1)"
      ]
     },
     "execution_count": 15,
     "metadata": {},
     "output_type": "execute_result"
    }
   ],
   "source": [
    "Xtrain = Xtrain.reshape(-1, windowSize, windowSize, K, 1)\n",
    "Xtrain.shape"
   ]
  },
  {
   "cell_type": "code",
   "execution_count": 16,
   "metadata": {},
   "outputs": [
    {
     "data": {
      "text/plain": [
       "(3074, 16)"
      ]
     },
     "execution_count": 16,
     "metadata": {},
     "output_type": "execute_result"
    }
   ],
   "source": [
    "ytrain = np_utils.to_categorical(ytrain)\n",
    "ytrain.shape"
   ]
  },
  {
   "cell_type": "markdown",
   "metadata": {},
   "source": [
    "Xvalid = Xvalid.reshape(-1, windowSize, windowSize, K, 1)\n",
    "Xvalid.shape"
   ]
  },
  {
   "cell_type": "markdown",
   "metadata": {},
   "source": [
    "yvalid = np_utils.to_categorical(yvalid)\n",
    "yvalid.shape"
   ]
  },
  {
   "cell_type": "code",
   "execution_count": 17,
   "metadata": {},
   "outputs": [],
   "source": [
    "S = windowSize\n",
    "L = K\n",
    "output_units = 9 if (dataset == 'PU' or dataset == 'PC') else 16"
   ]
  },
  {
   "cell_type": "code",
   "execution_count": 20,
   "metadata": {},
   "outputs": [
    {
     "name": "stdout",
     "output_type": "stream",
     "text": [
      "(None, 19, 19, 18, 32)\n"
     ]
    }
   ],
   "source": [
    "## input layer\n",
    "input_layer = Input((S, S, L, 1))\n",
    "\n",
    "## convolutional layers\n",
    "conv_layer1 = Conv3D(filters=8, kernel_size=(3, 3, 7), activation='relu')(input_layer)\n",
    "conv_layer2 = Conv3D(filters=16, kernel_size=(3, 3, 5), activation='relu')(conv_layer1)\n",
    "conv_layer3 = Conv3D(filters=32, kernel_size=(3, 3, 3), activation='relu')(conv_layer2)\n",
    "print(conv_layer3.shape)\n",
    "conv3d_shape = conv_layer3.shape\n",
    "conv_layer3 = Reshape((conv3d_shape[1], conv3d_shape[2], conv3d_shape[3]*conv3d_shape[4]))(conv_layer3)\n",
    "conv_layer4 = Conv2D(filters=64, kernel_size=(3,3), activation='relu')(conv_layer3)\n",
    "\n",
    "flatten_layer = Flatten()(conv_layer4)\n",
    "\n",
    "## fully connected layers\n",
    "dense_layer1 = Dense(units=256, activation='relu')(flatten_layer)\n",
    "dense_layer1 = Dropout(0.4)(dense_layer1)\n",
    "dense_layer2 = Dense(units=128, activation='relu')(dense_layer1)\n",
    "dense_layer2 = Dropout(0.4)(dense_layer2)\n",
    "output_layer = Dense(units=output_units, activation='softmax')(dense_layer2)"
   ]
  },
  {
   "cell_type": "code",
   "execution_count": 21,
   "metadata": {},
   "outputs": [],
   "source": [
    "# define the model with input layer and output layer\n",
    "model = Model(inputs=input_layer, outputs=output_layer)"
   ]
  },
  {
   "cell_type": "code",
   "execution_count": 22,
   "metadata": {
    "scrolled": true
   },
   "outputs": [
    {
     "name": "stdout",
     "output_type": "stream",
     "text": [
      "Model: \"functional_1\"\n",
      "_________________________________________________________________\n",
      "Layer (type)                 Output Shape              Param #   \n",
      "=================================================================\n",
      "input_3 (InputLayer)         [(None, 25, 25, 30, 1)]   0         \n",
      "_________________________________________________________________\n",
      "conv3d_6 (Conv3D)            (None, 23, 23, 24, 8)     512       \n",
      "_________________________________________________________________\n",
      "conv3d_7 (Conv3D)            (None, 21, 21, 20, 16)    5776      \n",
      "_________________________________________________________________\n",
      "conv3d_8 (Conv3D)            (None, 19, 19, 18, 32)    13856     \n",
      "_________________________________________________________________\n",
      "reshape (Reshape)            (None, 19, 19, 576)       0         \n",
      "_________________________________________________________________\n",
      "conv2d (Conv2D)              (None, 17, 17, 64)        331840    \n",
      "_________________________________________________________________\n",
      "flatten (Flatten)            (None, 18496)             0         \n",
      "_________________________________________________________________\n",
      "dense (Dense)                (None, 256)               4735232   \n",
      "_________________________________________________________________\n",
      "dropout (Dropout)            (None, 256)               0         \n",
      "_________________________________________________________________\n",
      "dense_1 (Dense)              (None, 128)               32896     \n",
      "_________________________________________________________________\n",
      "dropout_1 (Dropout)          (None, 128)               0         \n",
      "_________________________________________________________________\n",
      "dense_2 (Dense)              (None, 16)                2064      \n",
      "=================================================================\n",
      "Total params: 5,122,176\n",
      "Trainable params: 5,122,176\n",
      "Non-trainable params: 0\n",
      "_________________________________________________________________\n"
     ]
    }
   ],
   "source": [
    "model.summary()"
   ]
  },
  {
   "cell_type": "code",
   "execution_count": 23,
   "metadata": {},
   "outputs": [],
   "source": [
    "# compiling the model\n",
    "adam = Adam(lr=0.001, decay=1e-06)\n",
    "model.compile(loss='categorical_crossentropy', optimizer=adam, metrics=['accuracy'])"
   ]
  },
  {
   "cell_type": "code",
   "execution_count": 27,
   "metadata": {},
   "outputs": [],
   "source": [
    "# checkpoint\n",
    "filepath = \"best-model.hdf5\"\n",
    "checkpoint = ModelCheckpoint(filepath, monitor='accuracy', verbose=1, save_best_only=True, mode='max')\n",
    "callbacks_list = [checkpoint]"
   ]
  },
  {
   "cell_type": "code",
   "execution_count": 25,
   "metadata": {},
   "outputs": [
    {
     "name": "stdout",
     "output_type": "stream",
     "text": [
      "Epoch 1/100\n",
      "13/13 [==============================] - ETA: 0s - loss: 2.8379 - accuracy: 0.1230WARNING:tensorflow:Can save best model only with acc available, skipping.\n",
      "13/13 [==============================] - 63s 5s/step - loss: 2.8379 - accuracy: 0.1230\n",
      "Epoch 2/100\n",
      "13/13 [==============================] - ETA: 0s - loss: 2.7330 - accuracy: 0.1692WARNING:tensorflow:Can save best model only with acc available, skipping.\n",
      "13/13 [==============================] - 59s 5s/step - loss: 2.7330 - accuracy: 0.1692\n",
      "Epoch 3/100\n",
      "13/13 [==============================] - ETA: 0s - loss: 2.6127 - accuracy: 0.1825WARNING:tensorflow:Can save best model only with acc available, skipping.\n",
      "13/13 [==============================] - 62s 5s/step - loss: 2.6127 - accuracy: 0.1825\n",
      "Epoch 4/100\n",
      "13/13 [==============================] - ETA: 0s - loss: 2.3994 - accuracy: 0.2154WARNING:tensorflow:Can save best model only with acc available, skipping.\n",
      "13/13 [==============================] - 62s 5s/step - loss: 2.3994 - accuracy: 0.2154\n",
      "Epoch 5/100\n",
      "13/13 [==============================] - ETA: 0s - loss: 2.2619 - accuracy: 0.2066WARNING:tensorflow:Can save best model only with acc available, skipping.\n",
      "13/13 [==============================] - 63s 5s/step - loss: 2.2619 - accuracy: 0.2066\n",
      "Epoch 6/100\n",
      "13/13 [==============================] - ETA: 0s - loss: 2.1377 - accuracy: 0.2228WARNING:tensorflow:Can save best model only with acc available, skipping.\n",
      "13/13 [==============================] - 60s 5s/step - loss: 2.1377 - accuracy: 0.2228\n",
      "Epoch 7/100\n",
      "13/13 [==============================] - ETA: 0s - loss: 1.9336 - accuracy: 0.3178WARNING:tensorflow:Can save best model only with acc available, skipping.\n",
      "13/13 [==============================] - 65s 5s/step - loss: 1.9336 - accuracy: 0.3178\n",
      "Epoch 8/100\n",
      "13/13 [==============================] - ETA: 0s - loss: 1.5949 - accuracy: 0.4223WARNING:tensorflow:Can save best model only with acc available, skipping.\n",
      "13/13 [==============================] - 63s 5s/step - loss: 1.5949 - accuracy: 0.4223\n",
      "Epoch 9/100\n",
      "13/13 [==============================] - ETA: 0s - loss: 1.4057 - accuracy: 0.4945WARNING:tensorflow:Can save best model only with acc available, skipping.\n",
      "13/13 [==============================] - 63s 5s/step - loss: 1.4057 - accuracy: 0.4945\n",
      "Epoch 10/100\n",
      "13/13 [==============================] - ETA: 0s - loss: 1.1439 - accuracy: 0.5839WARNING:tensorflow:Can save best model only with acc available, skipping.\n",
      "13/13 [==============================] - 64s 5s/step - loss: 1.1439 - accuracy: 0.5839\n",
      "Epoch 11/100\n",
      "13/13 [==============================] - ETA: 0s - loss: 1.0207 - accuracy: 0.6561WARNING:tensorflow:Can save best model only with acc available, skipping.\n",
      "13/13 [==============================] - 62s 5s/step - loss: 1.0207 - accuracy: 0.6561\n",
      "Epoch 12/100\n",
      "13/13 [==============================] - ETA: 0s - loss: 0.6366 - accuracy: 0.7960WARNING:tensorflow:Can save best model only with acc available, skipping.\n",
      "13/13 [==============================] - 64s 5s/step - loss: 0.6366 - accuracy: 0.7960\n",
      "Epoch 13/100\n",
      "13/13 [==============================] - ETA: 0s - loss: 0.4385 - accuracy: 0.8575WARNING:tensorflow:Can save best model only with acc available, skipping.\n",
      "13/13 [==============================] - 59s 5s/step - loss: 0.4385 - accuracy: 0.8575\n",
      "Epoch 14/100\n",
      "13/13 [==============================] - ETA: 0s - loss: 0.2592 - accuracy: 0.9122WARNING:tensorflow:Can save best model only with acc available, skipping.\n",
      "13/13 [==============================] - 59s 5s/step - loss: 0.2592 - accuracy: 0.9122\n",
      "Epoch 15/100\n",
      "13/13 [==============================] - ETA: 0s - loss: 0.1944 - accuracy: 0.9379WARNING:tensorflow:Can save best model only with acc available, skipping.\n",
      "13/13 [==============================] - 60s 5s/step - loss: 0.1944 - accuracy: 0.9379\n",
      "Epoch 16/100\n",
      "13/13 [==============================] - ETA: 0s - loss: 0.1343 - accuracy: 0.9519WARNING:tensorflow:Can save best model only with acc available, skipping.\n",
      "13/13 [==============================] - 59s 5s/step - loss: 0.1343 - accuracy: 0.9519\n",
      "Epoch 17/100\n",
      "13/13 [==============================] - ETA: 0s - loss: 0.1002 - accuracy: 0.9694WARNING:tensorflow:Can save best model only with acc available, skipping.\n",
      "13/13 [==============================] - 59s 5s/step - loss: 0.1002 - accuracy: 0.9694\n",
      "Epoch 18/100\n",
      "13/13 [==============================] - ETA: 0s - loss: 0.0991 - accuracy: 0.9704WARNING:tensorflow:Can save best model only with acc available, skipping.\n",
      "13/13 [==============================] - 59s 5s/step - loss: 0.0991 - accuracy: 0.9704\n",
      "Epoch 19/100\n",
      "13/13 [==============================] - ETA: 0s - loss: 0.0781 - accuracy: 0.9756WARNING:tensorflow:Can save best model only with acc available, skipping.\n",
      "13/13 [==============================] - 58s 4s/step - loss: 0.0781 - accuracy: 0.9756\n",
      "Epoch 20/100\n",
      "13/13 [==============================] - ETA: 0s - loss: 0.0736 - accuracy: 0.9776WARNING:tensorflow:Can save best model only with acc available, skipping.\n",
      "13/13 [==============================] - 59s 5s/step - loss: 0.0736 - accuracy: 0.9776\n",
      "Epoch 21/100\n",
      "13/13 [==============================] - ETA: 0s - loss: 0.1383 - accuracy: 0.9639WARNING:tensorflow:Can save best model only with acc available, skipping.\n",
      "13/13 [==============================] - 60s 5s/step - loss: 0.1383 - accuracy: 0.9639\n",
      "Epoch 22/100\n",
      "13/13 [==============================] - ETA: 0s - loss: 0.0781 - accuracy: 0.9776WARNING:tensorflow:Can save best model only with acc available, skipping.\n",
      "13/13 [==============================] - 59s 5s/step - loss: 0.0781 - accuracy: 0.9776\n",
      "Epoch 23/100\n",
      "13/13 [==============================] - ETA: 0s - loss: 0.0730 - accuracy: 0.9798WARNING:tensorflow:Can save best model only with acc available, skipping.\n",
      "13/13 [==============================] - 59s 5s/step - loss: 0.0730 - accuracy: 0.9798\n",
      "Epoch 24/100\n",
      "13/13 [==============================] - ETA: 0s - loss: 0.0522 - accuracy: 0.9854WARNING:tensorflow:Can save best model only with acc available, skipping.\n",
      "13/13 [==============================] - 59s 5s/step - loss: 0.0522 - accuracy: 0.9854\n",
      "Epoch 25/100\n",
      "13/13 [==============================] - ETA: 0s - loss: 0.0343 - accuracy: 0.9902WARNING:tensorflow:Can save best model only with acc available, skipping.\n",
      "13/13 [==============================] - 59s 5s/step - loss: 0.0343 - accuracy: 0.9902\n",
      "Epoch 26/100\n",
      "13/13 [==============================] - ETA: 0s - loss: 0.0334 - accuracy: 0.9902WARNING:tensorflow:Can save best model only with acc available, skipping.\n",
      "13/13 [==============================] - 59s 5s/step - loss: 0.0334 - accuracy: 0.9902\n",
      "Epoch 27/100\n",
      "13/13 [==============================] - ETA: 0s - loss: 0.0266 - accuracy: 0.9906WARNING:tensorflow:Can save best model only with acc available, skipping.\n",
      "13/13 [==============================] - 58s 4s/step - loss: 0.0266 - accuracy: 0.9906\n",
      "Epoch 28/100\n",
      "13/13 [==============================] - ETA: 0s - loss: 0.0435 - accuracy: 0.9867WARNING:tensorflow:Can save best model only with acc available, skipping.\n",
      "13/13 [==============================] - 59s 5s/step - loss: 0.0435 - accuracy: 0.9867\n",
      "Epoch 29/100\n",
      "13/13 [==============================] - ETA: 0s - loss: 0.0416 - accuracy: 0.9902WARNING:tensorflow:Can save best model only with acc available, skipping.\n",
      "13/13 [==============================] - 59s 5s/step - loss: 0.0416 - accuracy: 0.9902\n",
      "Epoch 30/100\n",
      "13/13 [==============================] - ETA: 0s - loss: 0.0646 - accuracy: 0.9792WARNING:tensorflow:Can save best model only with acc available, skipping.\n",
      "13/13 [==============================] - 59s 5s/step - loss: 0.0646 - accuracy: 0.9792\n",
      "Epoch 31/100\n",
      "13/13 [==============================] - ETA: 0s - loss: 0.0488 - accuracy: 0.9880WARNING:tensorflow:Can save best model only with acc available, skipping.\n",
      "13/13 [==============================] - 58s 4s/step - loss: 0.0488 - accuracy: 0.9880\n",
      "Epoch 32/100\n",
      "13/13 [==============================] - ETA: 0s - loss: 0.0377 - accuracy: 0.9883WARNING:tensorflow:Can save best model only with acc available, skipping.\n",
      "13/13 [==============================] - 59s 5s/step - loss: 0.0377 - accuracy: 0.9883\n",
      "Epoch 33/100\n"
     ]
    },
    {
     "name": "stdout",
     "output_type": "stream",
     "text": [
      "13/13 [==============================] - ETA: 0s - loss: 0.0228 - accuracy: 0.9951WARNING:tensorflow:Can save best model only with acc available, skipping.\n",
      "13/13 [==============================] - 58s 4s/step - loss: 0.0228 - accuracy: 0.9951\n",
      "Epoch 34/100\n",
      "13/13 [==============================] - ETA: 0s - loss: 0.2100 - accuracy: 0.9519WARNING:tensorflow:Can save best model only with acc available, skipping.\n",
      "13/13 [==============================] - 59s 5s/step - loss: 0.2100 - accuracy: 0.9519\n",
      "Epoch 35/100\n",
      "13/13 [==============================] - ETA: 0s - loss: 0.0903 - accuracy: 0.9730WARNING:tensorflow:Can save best model only with acc available, skipping.\n",
      "13/13 [==============================] - 59s 5s/step - loss: 0.0903 - accuracy: 0.9730\n",
      "Epoch 36/100\n",
      "13/13 [==============================] - ETA: 0s - loss: 0.0443 - accuracy: 0.9893WARNING:tensorflow:Can save best model only with acc available, skipping.\n",
      "13/13 [==============================] - 59s 5s/step - loss: 0.0443 - accuracy: 0.9893\n",
      "Epoch 37/100\n",
      "13/13 [==============================] - ETA: 0s - loss: 0.2386 - accuracy: 0.9382WARNING:tensorflow:Can save best model only with acc available, skipping.\n",
      "13/13 [==============================] - 58s 4s/step - loss: 0.2386 - accuracy: 0.9382\n",
      "Epoch 38/100\n",
      "13/13 [==============================] - ETA: 0s - loss: 0.0994 - accuracy: 0.9723WARNING:tensorflow:Can save best model only with acc available, skipping.\n",
      "13/13 [==============================] - 59s 5s/step - loss: 0.0994 - accuracy: 0.9723\n",
      "Epoch 39/100\n",
      "13/13 [==============================] - ETA: 0s - loss: 0.0559 - accuracy: 0.9844WARNING:tensorflow:Can save best model only with acc available, skipping.\n",
      "13/13 [==============================] - 59s 5s/step - loss: 0.0559 - accuracy: 0.9844\n",
      "Epoch 40/100\n",
      "13/13 [==============================] - ETA: 0s - loss: 0.0299 - accuracy: 0.9919WARNING:tensorflow:Can save best model only with acc available, skipping.\n",
      "13/13 [==============================] - 59s 5s/step - loss: 0.0299 - accuracy: 0.9919\n",
      "Epoch 41/100\n",
      "13/13 [==============================] - ETA: 0s - loss: 0.0223 - accuracy: 0.9941WARNING:tensorflow:Can save best model only with acc available, skipping.\n",
      "13/13 [==============================] - 59s 5s/step - loss: 0.0223 - accuracy: 0.9941\n",
      "Epoch 42/100\n",
      "13/13 [==============================] - ETA: 0s - loss: 0.0222 - accuracy: 0.9941WARNING:tensorflow:Can save best model only with acc available, skipping.\n",
      "13/13 [==============================] - 59s 5s/step - loss: 0.0222 - accuracy: 0.9941\n",
      "Epoch 43/100\n",
      "13/13 [==============================] - ETA: 0s - loss: 0.0201 - accuracy: 0.9941WARNING:tensorflow:Can save best model only with acc available, skipping.\n",
      "13/13 [==============================] - 59s 5s/step - loss: 0.0201 - accuracy: 0.9941\n",
      "Epoch 44/100\n",
      "13/13 [==============================] - ETA: 0s - loss: 0.0142 - accuracy: 0.9958WARNING:tensorflow:Can save best model only with acc available, skipping.\n",
      "13/13 [==============================] - 59s 5s/step - loss: 0.0142 - accuracy: 0.9958\n",
      "Epoch 45/100\n",
      "13/13 [==============================] - ETA: 0s - loss: 0.0143 - accuracy: 0.9967WARNING:tensorflow:Can save best model only with acc available, skipping.\n",
      "13/13 [==============================] - 59s 5s/step - loss: 0.0143 - accuracy: 0.9967\n",
      "Epoch 46/100\n",
      "13/13 [==============================] - ETA: 0s - loss: 0.0153 - accuracy: 0.9948WARNING:tensorflow:Can save best model only with acc available, skipping.\n",
      "13/13 [==============================] - 59s 5s/step - loss: 0.0153 - accuracy: 0.9948\n",
      "Epoch 47/100\n",
      "13/13 [==============================] - ETA: 0s - loss: 0.0175 - accuracy: 0.9958WARNING:tensorflow:Can save best model only with acc available, skipping.\n",
      "13/13 [==============================] - 59s 5s/step - loss: 0.0175 - accuracy: 0.9958\n",
      "Epoch 48/100\n",
      "13/13 [==============================] - ETA: 0s - loss: 0.0096 - accuracy: 0.9974WARNING:tensorflow:Can save best model only with acc available, skipping.\n",
      "13/13 [==============================] - 59s 5s/step - loss: 0.0096 - accuracy: 0.9974\n",
      "Epoch 49/100\n",
      "13/13 [==============================] - ETA: 0s - loss: 0.0138 - accuracy: 0.9954WARNING:tensorflow:Can save best model only with acc available, skipping.\n",
      "13/13 [==============================] - 59s 5s/step - loss: 0.0138 - accuracy: 0.9954\n",
      "Epoch 50/100\n",
      "13/13 [==============================] - ETA: 0s - loss: 0.0183 - accuracy: 0.9945WARNING:tensorflow:Can save best model only with acc available, skipping.\n",
      "13/13 [==============================] - 59s 5s/step - loss: 0.0183 - accuracy: 0.9945\n",
      "Epoch 51/100\n",
      "13/13 [==============================] - ETA: 0s - loss: 0.0181 - accuracy: 0.9948WARNING:tensorflow:Can save best model only with acc available, skipping.\n",
      "13/13 [==============================] - 59s 5s/step - loss: 0.0181 - accuracy: 0.9948\n",
      "Epoch 52/100\n",
      "13/13 [==============================] - ETA: 0s - loss: 0.1516 - accuracy: 0.9619WARNING:tensorflow:Can save best model only with acc available, skipping.\n",
      "13/13 [==============================] - 59s 5s/step - loss: 0.1516 - accuracy: 0.9619\n",
      "Epoch 53/100\n",
      "13/13 [==============================] - ETA: 0s - loss: 0.0950 - accuracy: 0.9714WARNING:tensorflow:Can save best model only with acc available, skipping.\n",
      "13/13 [==============================] - 58s 4s/step - loss: 0.0950 - accuracy: 0.9714\n",
      "Epoch 54/100\n",
      "13/13 [==============================] - ETA: 0s - loss: 0.0617 - accuracy: 0.9837WARNING:tensorflow:Can save best model only with acc available, skipping.\n",
      "13/13 [==============================] - 59s 5s/step - loss: 0.0617 - accuracy: 0.9837\n",
      "Epoch 55/100\n",
      "13/13 [==============================] - ETA: 0s - loss: 0.0348 - accuracy: 0.9883WARNING:tensorflow:Can save best model only with acc available, skipping.\n",
      "13/13 [==============================] - 59s 5s/step - loss: 0.0348 - accuracy: 0.9883\n",
      "Epoch 56/100\n",
      "13/13 [==============================] - ETA: 0s - loss: 0.0215 - accuracy: 0.9935WARNING:tensorflow:Can save best model only with acc available, skipping.\n",
      "13/13 [==============================] - 59s 5s/step - loss: 0.0215 - accuracy: 0.9935\n",
      "Epoch 57/100\n",
      "13/13 [==============================] - ETA: 0s - loss: 0.0175 - accuracy: 0.9954WARNING:tensorflow:Can save best model only with acc available, skipping.\n",
      "13/13 [==============================] - 59s 5s/step - loss: 0.0175 - accuracy: 0.9954\n",
      "Epoch 58/100\n",
      "13/13 [==============================] - ETA: 0s - loss: 0.0142 - accuracy: 0.9958WARNING:tensorflow:Can save best model only with acc available, skipping.\n",
      "13/13 [==============================] - 60s 5s/step - loss: 0.0142 - accuracy: 0.9958\n",
      "Epoch 59/100\n",
      "13/13 [==============================] - ETA: 0s - loss: 0.0093 - accuracy: 0.9971WARNING:tensorflow:Can save best model only with acc available, skipping.\n",
      "13/13 [==============================] - 59s 5s/step - loss: 0.0093 - accuracy: 0.9971\n",
      "Epoch 60/100\n",
      "13/13 [==============================] - ETA: 0s - loss: 0.0063 - accuracy: 0.9987WARNING:tensorflow:Can save best model only with acc available, skipping.\n",
      "13/13 [==============================] - 59s 5s/step - loss: 0.0063 - accuracy: 0.9987\n",
      "Epoch 61/100\n",
      "13/13 [==============================] - ETA: 0s - loss: 0.0095 - accuracy: 0.9974WARNING:tensorflow:Can save best model only with acc available, skipping.\n",
      "13/13 [==============================] - 59s 5s/step - loss: 0.0095 - accuracy: 0.9974\n",
      "Epoch 62/100\n",
      "13/13 [==============================] - ETA: 0s - loss: 0.0085 - accuracy: 0.9980WARNING:tensorflow:Can save best model only with acc available, skipping.\n",
      "13/13 [==============================] - 59s 5s/step - loss: 0.0085 - accuracy: 0.9980\n",
      "Epoch 63/100\n",
      "13/13 [==============================] - ETA: 0s - loss: 0.0092 - accuracy: 0.9984WARNING:tensorflow:Can save best model only with acc available, skipping.\n",
      "13/13 [==============================] - 59s 5s/step - loss: 0.0092 - accuracy: 0.9984\n",
      "Epoch 64/100\n",
      "13/13 [==============================] - ETA: 0s - loss: 0.0042 - accuracy: 0.9987WARNING:tensorflow:Can save best model only with acc available, skipping.\n",
      "13/13 [==============================] - 59s 5s/step - loss: 0.0042 - accuracy: 0.9987\n",
      "Epoch 65/100\n",
      "13/13 [==============================] - ETA: 0s - loss: 0.0080 - accuracy: 0.9980WARNING:tensorflow:Can save best model only with acc available, skipping.\n",
      "13/13 [==============================] - 59s 5s/step - loss: 0.0080 - accuracy: 0.9980\n",
      "Epoch 66/100\n",
      "13/13 [==============================] - ETA: 0s - loss: 0.0102 - accuracy: 0.9974WARNING:tensorflow:Can save best model only with acc available, skipping.\n",
      "13/13 [==============================] - 59s 5s/step - loss: 0.0102 - accuracy: 0.9974\n",
      "Epoch 67/100\n",
      "13/13 [==============================] - ETA: 0s - loss: 0.0112 - accuracy: 0.9984WARNING:tensorflow:Can save best model only with acc available, skipping.\n",
      "13/13 [==============================] - 59s 5s/step - loss: 0.0112 - accuracy: 0.9984\n",
      "Epoch 68/100\n",
      "13/13 [==============================] - ETA: 0s - loss: 0.0037 - accuracy: 0.9993WARNING:tensorflow:Can save best model only with acc available, skipping.\n",
      "13/13 [==============================] - 59s 5s/step - loss: 0.0037 - accuracy: 0.9993\n",
      "Epoch 69/100\n",
      "13/13 [==============================] - ETA: 0s - loss: 0.0061 - accuracy: 0.9977WARNING:tensorflow:Can save best model only with acc available, skipping.\n",
      "13/13 [==============================] - 59s 5s/step - loss: 0.0061 - accuracy: 0.9977\n",
      "Epoch 70/100\n",
      "13/13 [==============================] - ETA: 0s - loss: 0.0088 - accuracy: 0.9967WARNING:tensorflow:Can save best model only with acc available, skipping.\n",
      "13/13 [==============================] - 59s 5s/step - loss: 0.0088 - accuracy: 0.9967\n",
      "Epoch 71/100\n",
      "13/13 [==============================] - ETA: 0s - loss: 0.0046 - accuracy: 0.9984WARNING:tensorflow:Can save best model only with acc available, skipping.\n",
      "13/13 [==============================] - 59s 5s/step - loss: 0.0046 - accuracy: 0.9984\n",
      "Epoch 72/100\n",
      "13/13 [==============================] - ETA: 0s - loss: 0.0066 - accuracy: 0.9977WARNING:tensorflow:Can save best model only with acc available, skipping.\n",
      "13/13 [==============================] - 59s 5s/step - loss: 0.0066 - accuracy: 0.9977\n",
      "Epoch 73/100\n",
      "13/13 [==============================] - ETA: 0s - loss: 0.0093 - accuracy: 0.9987WARNING:tensorflow:Can save best model only with acc available, skipping.\n",
      "13/13 [==============================] - 59s 5s/step - loss: 0.0093 - accuracy: 0.9987\n",
      "Epoch 74/100\n",
      "13/13 [==============================] - ETA: 0s - loss: 0.0045 - accuracy: 0.9990WARNING:tensorflow:Can save best model only with acc available, skipping.\n",
      "13/13 [==============================] - 59s 5s/step - loss: 0.0045 - accuracy: 0.9990\n",
      "Epoch 75/100\n",
      "13/13 [==============================] - ETA: 0s - loss: 0.0035 - accuracy: 0.9990WARNING:tensorflow:Can save best model only with acc available, skipping.\n",
      "13/13 [==============================] - 59s 5s/step - loss: 0.0035 - accuracy: 0.9990\n",
      "Epoch 76/100\n",
      "13/13 [==============================] - ETA: 0s - loss: 0.0117 - accuracy: 0.9977WARNING:tensorflow:Can save best model only with acc available, skipping.\n",
      "13/13 [==============================] - 59s 5s/step - loss: 0.0117 - accuracy: 0.9977\n",
      "Epoch 77/100\n",
      "13/13 [==============================] - ETA: 0s - loss: 0.0127 - accuracy: 0.9993WARNING:tensorflow:Can save best model only with acc available, skipping.\n",
      "13/13 [==============================] - 59s 5s/step - loss: 0.0127 - accuracy: 0.9993\n",
      "Epoch 78/100\n",
      "13/13 [==============================] - ETA: 0s - loss: 0.0075 - accuracy: 0.9987WARNING:tensorflow:Can save best model only with acc available, skipping.\n",
      "13/13 [==============================] - 59s 5s/step - loss: 0.0075 - accuracy: 0.9987\n",
      "Epoch 79/100\n",
      "13/13 [==============================] - ETA: 0s - loss: 0.0089 - accuracy: 0.9964WARNING:tensorflow:Can save best model only with acc available, skipping.\n",
      "13/13 [==============================] - 59s 5s/step - loss: 0.0089 - accuracy: 0.9964\n",
      "Epoch 80/100\n",
      "13/13 [==============================] - ETA: 0s - loss: 0.0034 - accuracy: 0.9993WARNING:tensorflow:Can save best model only with acc available, skipping.\n",
      "13/13 [==============================] - 59s 5s/step - loss: 0.0034 - accuracy: 0.9993\n",
      "Epoch 81/100\n",
      "13/13 [==============================] - ETA: 0s - loss: 0.0028 - accuracy: 0.9997WARNING:tensorflow:Can save best model only with acc available, skipping.\n",
      "13/13 [==============================] - 58s 4s/step - loss: 0.0028 - accuracy: 0.9997\n",
      "Epoch 82/100\n",
      "13/13 [==============================] - ETA: 0s - loss: 0.0078 - accuracy: 0.9984WARNING:tensorflow:Can save best model only with acc available, skipping.\n",
      "13/13 [==============================] - 59s 5s/step - loss: 0.0078 - accuracy: 0.9984\n",
      "Epoch 83/100\n",
      "13/13 [==============================] - ETA: 0s - loss: 0.0237 - accuracy: 0.9935WARNING:tensorflow:Can save best model only with acc available, skipping.\n",
      "13/13 [==============================] - 59s 5s/step - loss: 0.0237 - accuracy: 0.9935\n",
      "Epoch 84/100\n",
      "13/13 [==============================] - ETA: 0s - loss: 0.0152 - accuracy: 0.9935WARNING:tensorflow:Can save best model only with acc available, skipping.\n",
      "13/13 [==============================] - 58s 4s/step - loss: 0.0152 - accuracy: 0.9935\n",
      "Epoch 85/100\n",
      "13/13 [==============================] - ETA: 0s - loss: 0.0174 - accuracy: 0.9951WARNING:tensorflow:Can save best model only with acc available, skipping.\n",
      "13/13 [==============================] - 59s 5s/step - loss: 0.0174 - accuracy: 0.9951\n",
      "Epoch 86/100\n",
      "13/13 [==============================] - ETA: 0s - loss: 0.0149 - accuracy: 0.9967WARNING:tensorflow:Can save best model only with acc available, skipping.\n",
      "13/13 [==============================] - 59s 5s/step - loss: 0.0149 - accuracy: 0.9967\n",
      "Epoch 87/100\n",
      "13/13 [==============================] - ETA: 0s - loss: 0.0055 - accuracy: 0.9974WARNING:tensorflow:Can save best model only with acc available, skipping.\n",
      "13/13 [==============================] - 59s 5s/step - loss: 0.0055 - accuracy: 0.9974\n",
      "Epoch 88/100\n",
      "13/13 [==============================] - ETA: 0s - loss: 0.0139 - accuracy: 0.9971WARNING:tensorflow:Can save best model only with acc available, skipping.\n",
      "13/13 [==============================] - 59s 5s/step - loss: 0.0139 - accuracy: 0.9971\n",
      "Epoch 89/100\n",
      "13/13 [==============================] - ETA: 0s - loss: 0.0085 - accuracy: 0.9980WARNING:tensorflow:Can save best model only with acc available, skipping.\n",
      "13/13 [==============================] - 59s 5s/step - loss: 0.0085 - accuracy: 0.9980\n",
      "Epoch 90/100\n",
      "13/13 [==============================] - ETA: 0s - loss: 0.0068 - accuracy: 0.9984WARNING:tensorflow:Can save best model only with acc available, skipping.\n",
      "13/13 [==============================] - 59s 5s/step - loss: 0.0068 - accuracy: 0.9984\n",
      "Epoch 91/100\n",
      "13/13 [==============================] - ETA: 0s - loss: 0.0039 - accuracy: 0.9990WARNING:tensorflow:Can save best model only with acc available, skipping.\n",
      "13/13 [==============================] - 59s 5s/step - loss: 0.0039 - accuracy: 0.9990\n",
      "Epoch 92/100\n",
      "13/13 [==============================] - ETA: 0s - loss: 0.0144 - accuracy: 0.9971WARNING:tensorflow:Can save best model only with acc available, skipping.\n",
      "13/13 [==============================] - 59s 5s/step - loss: 0.0144 - accuracy: 0.9971\n",
      "Epoch 93/100\n",
      "13/13 [==============================] - ETA: 0s - loss: 0.0798 - accuracy: 0.9850WARNING:tensorflow:Can save best model only with acc available, skipping.\n",
      "13/13 [==============================] - 59s 5s/step - loss: 0.0798 - accuracy: 0.9850\n",
      "Epoch 94/100\n",
      "13/13 [==============================] - ETA: 0s - loss: 0.0922 - accuracy: 0.9834WARNING:tensorflow:Can save best model only with acc available, skipping.\n",
      "13/13 [==============================] - 59s 5s/step - loss: 0.0922 - accuracy: 0.9834\n",
      "Epoch 95/100\n",
      "13/13 [==============================] - ETA: 0s - loss: 0.0260 - accuracy: 0.9941WARNING:tensorflow:Can save best model only with acc available, skipping.\n",
      "13/13 [==============================] - 59s 5s/step - loss: 0.0260 - accuracy: 0.9941\n",
      "Epoch 96/100\n",
      "13/13 [==============================] - ETA: 0s - loss: 0.0163 - accuracy: 0.9951WARNING:tensorflow:Can save best model only with acc available, skipping.\n",
      "13/13 [==============================] - 59s 5s/step - loss: 0.0163 - accuracy: 0.9951\n",
      "Epoch 97/100\n"
     ]
    },
    {
     "name": "stdout",
     "output_type": "stream",
     "text": [
      "13/13 [==============================] - ETA: 0s - loss: 0.0084 - accuracy: 0.9974WARNING:tensorflow:Can save best model only with acc available, skipping.\n",
      "13/13 [==============================] - 59s 5s/step - loss: 0.0084 - accuracy: 0.9974\n",
      "Epoch 98/100\n",
      "13/13 [==============================] - ETA: 0s - loss: 0.0049 - accuracy: 0.9987WARNING:tensorflow:Can save best model only with acc available, skipping.\n",
      "13/13 [==============================] - 59s 5s/step - loss: 0.0049 - accuracy: 0.9987\n",
      "Epoch 99/100\n",
      "13/13 [==============================] - ETA: 0s - loss: 0.0078 - accuracy: 0.9977WARNING:tensorflow:Can save best model only with acc available, skipping.\n",
      "13/13 [==============================] - 59s 5s/step - loss: 0.0078 - accuracy: 0.9977\n",
      "Epoch 100/100\n",
      "13/13 [==============================] - ETA: 0s - loss: 0.0147 - accuracy: 0.9958WARNING:tensorflow:Can save best model only with acc available, skipping.\n",
      "13/13 [==============================] - 59s 5s/step - loss: 0.0147 - accuracy: 0.9958\n"
     ]
    }
   ],
   "source": [
    "history = model.fit(x=Xtrain, y=ytrain, batch_size=256, epochs=100, callbacks=callbacks_list)"
   ]
  },
  {
   "cell_type": "markdown",
   "metadata": {},
   "source": [
    "plt.figure(figsize=(7,7))\n",
    "plt.grid()\n",
    "plt.plot(history.history['loss'])\n",
    "#plt.plot(history.history['val_loss'])\n",
    "plt.ylabel('Loss')\n",
    "plt.xlabel('Epochs')\n",
    "plt.legend(['Training','Validation'], loc='upper right')\n",
    "plt.savefig(\"loss_curve.pdf\")\n",
    "plt.show()"
   ]
  },
  {
   "cell_type": "markdown",
   "metadata": {},
   "source": [
    "plt.figure(figsize=(5,5))\n",
    "plt.ylim(0,1.1)\n",
    "plt.grid()\n",
    "plt.plot(history.history['acc'])\n",
    "#plt.plot(history.history['val_acc'])\n",
    "plt.ylabel('Accuracy')\n",
    "plt.xlabel('Epochs')\n",
    "plt.legend(['Training','Validation'])\n",
    "plt.savefig(\"acc_curve.pdf\")\n",
    "plt.show()"
   ]
  },
  {
   "cell_type": "markdown",
   "metadata": {},
   "source": [
    "# Validation"
   ]
  },
  {
   "cell_type": "code",
   "execution_count": null,
   "metadata": {},
   "outputs": [],
   "source": [
    "# load best weights\n",
    "model.load_weights(\"best-model.hdf5\")\n",
    "model.compile(loss='categorical_crossentropy', optimizer=adam, metrics=['accuracy'])"
   ]
  },
  {
   "cell_type": "code",
   "execution_count": null,
   "metadata": {},
   "outputs": [],
   "source": [
    "Xtest = Xtest.reshape(-1, windowSize, windowSize, K, 1)\n",
    "Xtest.shape"
   ]
  },
  {
   "cell_type": "code",
   "execution_count": 26,
   "metadata": {},
   "outputs": [
    {
     "data": {
      "text/plain": [
       "(7175, 16)"
      ]
     },
     "execution_count": 26,
     "metadata": {},
     "output_type": "execute_result"
    }
   ],
   "source": [
    "ytest = np_utils.to_categorical(ytest)\n",
    "ytest.shape"
   ]
  },
  {
   "cell_type": "code",
   "execution_count": null,
   "metadata": {},
   "outputs": [],
   "source": [
    "Y_pred_test = model.predict(Xtest)\n",
    "y_pred_test = np.argmax(Y_pred_test, axis=1)\n",
    "\n",
    "classification = classification_report(np.argmax(ytest, axis=1), y_pred_test)\n",
    "print(classification)"
   ]
  },
  {
   "cell_type": "code",
   "execution_count": 28,
   "metadata": {},
   "outputs": [],
   "source": [
    "def AA_andEachClassAccuracy(confusion_matrix):\n",
    "    counter = confusion_matrix.shape[0]\n",
    "    list_diag = np.diag(confusion_matrix)\n",
    "    list_raw_sum = np.sum(confusion_matrix, axis=1)\n",
    "    each_acc = np.nan_to_num(truediv(list_diag, list_raw_sum))\n",
    "    average_acc = np.mean(each_acc)\n",
    "    return each_acc, average_acc"
   ]
  },
  {
   "cell_type": "code",
   "execution_count": 29,
   "metadata": {},
   "outputs": [],
   "source": [
    "def reports (X_test,y_test,name):\n",
    "    #start = time.time()\n",
    "    Y_pred = model.predict(X_test)\n",
    "    y_pred = np.argmax(Y_pred, axis=1)\n",
    "    #end = time.time()\n",
    "    #print(end - start)\n",
    "    if name == 'IP':\n",
    "        target_names = ['Alfalfa', 'Corn-notill', 'Corn-mintill', 'Corn'\n",
    "                        ,'Grass-pasture', 'Grass-trees', 'Grass-pasture-mowed', \n",
    "                        'Hay-windrowed', 'Oats', 'Soybean-notill', 'Soybean-mintill',\n",
    "                        'Soybean-clean', 'Wheat', 'Woods', 'Buildings-Grass-Trees-Drives',\n",
    "                        'Stone-Steel-Towers']\n",
    "    elif name == 'SA':\n",
    "        target_names = ['Brocoli_green_weeds_1','Brocoli_green_weeds_2','Fallow','Fallow_rough_plow','Fallow_smooth',\n",
    "                        'Stubble','Celery','Grapes_untrained','Soil_vinyard_develop','Corn_senesced_green_weeds',\n",
    "                        'Lettuce_romaine_4wk','Lettuce_romaine_5wk','Lettuce_romaine_6wk','Lettuce_romaine_7wk',\n",
    "                        'Vinyard_untrained','Vinyard_vertical_trellis']\n",
    "    elif name == 'PU':\n",
    "        target_names = ['Asphalt','Meadows','Gravel','Trees', 'Painted metal sheets','Bare Soil','Bitumen',\n",
    "                        'Self-Blocking Bricks','Shadows']\n",
    "    \n",
    "    classification = classification_report(np.argmax(y_test, axis=1), y_pred, target_names=target_names)\n",
    "    oa = accuracy_score(np.argmax(y_test, axis=1), y_pred)\n",
    "    confusion = confusion_matrix(np.argmax(y_test, axis=1), y_pred)\n",
    "    each_acc, aa = AA_andEachClassAccuracy(confusion)\n",
    "    kappa = cohen_kappa_score(np.argmax(y_test, axis=1), y_pred)\n",
    "    score = model.evaluate(X_test, y_test, batch_size=32)\n",
    "    Test_Loss =  score[0]*100\n",
    "    Test_accuracy = score[1]*100\n",
    "    \n",
    "    return classification, confusion, Test_Loss, Test_accuracy, oa*100, each_acc*100, aa*100, kappa*100"
   ]
  },
  {
   "cell_type": "code",
   "execution_count": 30,
   "metadata": {},
   "outputs": [
    {
     "name": "stdout",
     "output_type": "stream",
     "text": [
      "7175/7175 [==============================] - 5s 691us/step\n"
     ]
    }
   ],
   "source": [
    "classification, confusion, Test_loss, Test_accuracy, oa, each_acc, aa, kappa = reports(Xtest,ytest,dataset)\n",
    "classification = str(classification)\n",
    "confusion = str(confusion)\n",
    "file_name = \"classification_report.txt\"\n",
    "\n",
    "with open(file_name, 'w') as x_file:\n",
    "    x_file.write('{} Test loss (%)'.format(Test_loss))\n",
    "    x_file.write('\\n')\n",
    "    x_file.write('{} Test accuracy (%)'.format(Test_accuracy))\n",
    "    x_file.write('\\n')\n",
    "    x_file.write('\\n')\n",
    "    x_file.write('{} Kappa accuracy (%)'.format(kappa))\n",
    "    x_file.write('\\n')\n",
    "    x_file.write('{} Overall accuracy (%)'.format(oa))\n",
    "    x_file.write('\\n')\n",
    "    x_file.write('{} Average accuracy (%)'.format(aa))\n",
    "    x_file.write('\\n')\n",
    "    x_file.write('\\n')\n",
    "    x_file.write('{}'.format(classification))\n",
    "    x_file.write('\\n')\n",
    "    x_file.write('{}'.format(confusion))"
   ]
  },
  {
   "cell_type": "code",
   "execution_count": 53,
   "metadata": {},
   "outputs": [],
   "source": [
    "def Patch(data,height_index,width_index):\n",
    "    height_slice = slice(height_index, height_index+PATCH_SIZE)\n",
    "    width_slice = slice(width_index, width_index+PATCH_SIZE)\n",
    "    patch = data[height_slice, width_slice, :]\n",
    "    \n",
    "    return patch"
   ]
  },
  {
   "cell_type": "code",
   "execution_count": null,
   "metadata": {},
   "outputs": [],
   "source": [
    "# load the original image\n",
    "X, y = loadData(dataset)"
   ]
  },
  {
   "cell_type": "code",
   "execution_count": null,
   "metadata": {},
   "outputs": [],
   "source": [
    "img = X\n",
    "gt = y\n",
    "spectral.view_cube(img,bands=[29, 19, 9])\n"
   ]
  },
  {
   "cell_type": "code",
   "execution_count": 55,
   "metadata": {},
   "outputs": [],
   "source": [
    "height = y.shape[0]\n",
    "width = y.shape[1]\n",
    "PATCH_SIZE = windowSize\n",
    "numComponents = K"
   ]
  },
  {
   "cell_type": "code",
   "execution_count": 56,
   "metadata": {},
   "outputs": [
    {
     "name": "stdout",
     "output_type": "stream",
     "text": [
      "(21025, 200)\n"
     ]
    }
   ],
   "source": [
    "X,pca = applyPCA(X, numComponents=numComponents)"
   ]
  },
  {
   "cell_type": "code",
   "execution_count": 57,
   "metadata": {},
   "outputs": [],
   "source": [
    "X = padWithZeros(X, PATCH_SIZE//2)"
   ]
  },
  {
   "cell_type": "code",
   "execution_count": null,
   "metadata": {},
   "outputs": [],
   "source": [
    "# calculate the predicted image\n",
    "outputs = np.zeros((height,width))\n",
    "for i in range(height):\n",
    "    for j in range(width):\n",
    "        target = int(y[i,j])\n",
    "        if target == 0 :\n",
    "            continue\n",
    "        else :\n",
    "            image_patch=Patch(X,i,j)\n",
    "            X_test_image = image_patch.reshape(1,image_patch.shape[0],image_patch.shape[1], image_patch.shape[2], 1).astype('float32')                                   \n",
    "            prediction = (model.predict(X_test_image))\n",
    "            prediction = np.argmax(prediction, axis=1)\n",
    "            outputs[i][j] = prediction+1"
   ]
  },
  {
   "cell_type": "code",
   "execution_count": null,
   "metadata": {},
   "outputs": [],
   "source": [
    "ground_truth = spectral.imshow(classes = y,figsize =(7,7))"
   ]
  },
  {
   "cell_type": "code",
   "execution_count": null,
   "metadata": {},
   "outputs": [],
   "source": [
    "predict_image = spectral.imshow(classes = outputs.astype(int),figsize =(7,7))"
   ]
  },
  {
   "cell_type": "code",
   "execution_count": 39,
   "metadata": {},
   "outputs": [],
   "source": [
    "spectral.save_rgb(\"predictions.jpg\", outputs.astype(int), colors=spectral.spy_colors)"
   ]
  },
  {
   "cell_type": "markdown",
   "metadata": {},
   "source": [
    "spectral.save_rgb(str(dataset)+\"_ground_truth.jpg\", y, colors=spectral.spy_colors)"
   ]
  }
 ],
 "metadata": {
  "kernelspec": {
   "display_name": "Python 3",
   "language": "python",
   "name": "python3"
  },
  "language_info": {
   "codemirror_mode": {
    "name": "ipython",
    "version": 3
   },
   "file_extension": ".py",
   "mimetype": "text/x-python",
   "name": "python",
   "nbconvert_exporter": "python",
   "pygments_lexer": "ipython3",
   "version": "3.8.3"
  }
 },
 "nbformat": 4,
 "nbformat_minor": 2
}
